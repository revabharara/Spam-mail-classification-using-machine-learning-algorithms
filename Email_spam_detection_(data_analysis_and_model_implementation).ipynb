{
 "cells": [
  {
   "cell_type": "markdown",
   "id": "aba47d2c",
   "metadata": {},
   "source": [
    "\n",
    "***Reva Bharara***\n",
    "\n",
    "***Email : revabharara@gmail.com***\n",
    "\n",
    "***Linkedin : https://www.linkedin.com/in/reva-bharara-a83a78241/***"
   ]
  },
  {
   "cell_type": "markdown",
   "id": "93f3ebf3",
   "metadata": {},
   "source": [
    "### **Objective: To create a Machine Learning model that can classify mails as spam and ham (not spam)**"
   ]
  },
  {
   "cell_type": "markdown",
   "id": "539aa950",
   "metadata": {},
   "source": [
    "### *Index:*\n",
    "1. Importing the dependencies\n",
    "2. Importing relevant datasets\n",
    "3. Data analysis\n",
    "4. Data preprocessing\n",
    "5. Model selection and prediction:\n",
    "    * Logistic regression\n",
    "    * SVM\n",
    "    * Naive bayes\n",
    "    * Decision trees\n",
    "    * Randon Forest Classifier\n",
    "6. Model comparison\n",
    "7. Model implemetation and analysis\n",
    "8. Conclusion\n",
    "9. Credits"
   ]
  },
  {
   "cell_type": "markdown",
   "id": "69d40600",
   "metadata": {},
   "source": [
    "# -------------------------------------------------------------------------------------------------------\n",
    "### *1. Impoting the dependencies*"
   ]
  },
  {
   "cell_type": "code",
   "execution_count": 98,
   "id": "0354091a",
   "metadata": {},
   "outputs": [],
   "source": [
    "import pandas as pd\n",
    "import numpy as np\n",
    "import matplotlib.pyplot as plt\n",
    "import seaborn as sns\n",
    "from sklearn.model_selection import train_test_split\n",
    "from sklearn.feature_extraction.text import TfidfVectorizer\n",
    "from sklearn.linear_model import LogisticRegression\n",
    "from sklearn.naive_bayes import MultinomialNB\n",
    "from sklearn.svm import SVC\n",
    "from sklearn.tree import DecisionTreeClassifier\n",
    "from sklearn.ensemble import RandomForestClassifier\n",
    "from sklearn.metrics import accuracy_score\n",
    "from sklearn.metrics import f1_score\n",
    "from sklearn.metrics import confusion_matrix, ConfusionMatrixDisplay\n",
    "from sklearn.metrics import classification_report\n",
    "\n"
   ]
  },
  {
   "cell_type": "markdown",
   "id": "07c72022",
   "metadata": {},
   "source": [
    "# -------------------------------------------------------------------------------------------------------\n",
    "### *2. Importing relevant datasets*\n"
   ]
  },
  {
   "cell_type": "code",
   "execution_count": 2,
   "id": "a21327e3",
   "metadata": {},
   "outputs": [],
   "source": [
    "# using pandas read_csv method to read the dataset and storing it in df_mail dataframe\n",
    "\n",
    "df_mail=pd.read_csv('mail_data.csv')"
   ]
  },
  {
   "cell_type": "code",
   "execution_count": 3,
   "id": "bae05ebf",
   "metadata": {},
   "outputs": [
    {
     "data": {
      "text/html": [
       "<div>\n",
       "<style scoped>\n",
       "    .dataframe tbody tr th:only-of-type {\n",
       "        vertical-align: middle;\n",
       "    }\n",
       "\n",
       "    .dataframe tbody tr th {\n",
       "        vertical-align: top;\n",
       "    }\n",
       "\n",
       "    .dataframe thead th {\n",
       "        text-align: right;\n",
       "    }\n",
       "</style>\n",
       "<table border=\"1\" class=\"dataframe\">\n",
       "  <thead>\n",
       "    <tr style=\"text-align: right;\">\n",
       "      <th></th>\n",
       "      <th>Category</th>\n",
       "      <th>Message</th>\n",
       "    </tr>\n",
       "  </thead>\n",
       "  <tbody>\n",
       "    <tr>\n",
       "      <th>0</th>\n",
       "      <td>ham</td>\n",
       "      <td>Go until jurong point, crazy.. Available only ...</td>\n",
       "    </tr>\n",
       "    <tr>\n",
       "      <th>1</th>\n",
       "      <td>ham</td>\n",
       "      <td>Ok lar... Joking wif u oni...</td>\n",
       "    </tr>\n",
       "    <tr>\n",
       "      <th>2</th>\n",
       "      <td>spam</td>\n",
       "      <td>Free entry in 2 a wkly comp to win FA Cup fina...</td>\n",
       "    </tr>\n",
       "    <tr>\n",
       "      <th>3</th>\n",
       "      <td>ham</td>\n",
       "      <td>U dun say so early hor... U c already then say...</td>\n",
       "    </tr>\n",
       "    <tr>\n",
       "      <th>4</th>\n",
       "      <td>ham</td>\n",
       "      <td>Nah I don't think he goes to usf, he lives aro...</td>\n",
       "    </tr>\n",
       "  </tbody>\n",
       "</table>\n",
       "</div>"
      ],
      "text/plain": [
       "  Category                                            Message\n",
       "0      ham  Go until jurong point, crazy.. Available only ...\n",
       "1      ham                      Ok lar... Joking wif u oni...\n",
       "2     spam  Free entry in 2 a wkly comp to win FA Cup fina...\n",
       "3      ham  U dun say so early hor... U c already then say...\n",
       "4      ham  Nah I don't think he goes to usf, he lives aro..."
      ]
     },
     "execution_count": 3,
     "metadata": {},
     "output_type": "execute_result"
    }
   ],
   "source": [
    "df_mail.head()"
   ]
  },
  {
   "cell_type": "markdown",
   "id": "778c80f9",
   "metadata": {},
   "source": [
    "# -------------------------------------------------------------------------------------------------------\n",
    "### *3. data analysis*"
   ]
  },
  {
   "cell_type": "code",
   "execution_count": 4,
   "id": "bf64622a",
   "metadata": {},
   "outputs": [
    {
     "data": {
      "text/plain": [
       "(5572, 2)"
      ]
     },
     "execution_count": 4,
     "metadata": {},
     "output_type": "execute_result"
    }
   ],
   "source": [
    "# This tells is the number of rows and columns in the dataframe\n",
    "df_mail.shape"
   ]
  },
  {
   "cell_type": "code",
   "execution_count": 5,
   "id": "9fd88364",
   "metadata": {
    "scrolled": true
   },
   "outputs": [
    {
     "name": "stdout",
     "output_type": "stream",
     "text": [
      "<class 'pandas.core.frame.DataFrame'>\n",
      "RangeIndex: 5572 entries, 0 to 5571\n",
      "Data columns (total 2 columns):\n",
      " #   Column    Non-Null Count  Dtype \n",
      "---  ------    --------------  ----- \n",
      " 0   Category  5572 non-null   object\n",
      " 1   Message   5572 non-null   object\n",
      "dtypes: object(2)\n",
      "memory usage: 87.2+ KB\n"
     ]
    }
   ],
   "source": [
    "# This gives the information about the dataset\n",
    "df_mail.info()"
   ]
  },
  {
   "cell_type": "markdown",
   "id": "2e108c3b",
   "metadata": {},
   "source": [
    "# -------------------------------------------------------------------------------------------------------\n",
    "### *4. Data Preprocessing*"
   ]
  },
  {
   "cell_type": "markdown",
   "id": "dc61c98c",
   "metadata": {},
   "source": [
    "#### since there are no missing values in the dataset, we dont need to replace them with empty string in data preprocessing"
   ]
  },
  {
   "cell_type": "code",
   "execution_count": 6,
   "id": "d23ff1a5",
   "metadata": {},
   "outputs": [
    {
     "data": {
      "text/html": [
       "<div>\n",
       "<style scoped>\n",
       "    .dataframe tbody tr th:only-of-type {\n",
       "        vertical-align: middle;\n",
       "    }\n",
       "\n",
       "    .dataframe tbody tr th {\n",
       "        vertical-align: top;\n",
       "    }\n",
       "\n",
       "    .dataframe thead th {\n",
       "        text-align: right;\n",
       "    }\n",
       "</style>\n",
       "<table border=\"1\" class=\"dataframe\">\n",
       "  <thead>\n",
       "    <tr style=\"text-align: right;\">\n",
       "      <th></th>\n",
       "      <th>Category</th>\n",
       "      <th>Message</th>\n",
       "    </tr>\n",
       "  </thead>\n",
       "  <tbody>\n",
       "    <tr>\n",
       "      <th>count</th>\n",
       "      <td>5572</td>\n",
       "      <td>5572</td>\n",
       "    </tr>\n",
       "    <tr>\n",
       "      <th>unique</th>\n",
       "      <td>2</td>\n",
       "      <td>5157</td>\n",
       "    </tr>\n",
       "    <tr>\n",
       "      <th>top</th>\n",
       "      <td>ham</td>\n",
       "      <td>Sorry, I'll call later</td>\n",
       "    </tr>\n",
       "    <tr>\n",
       "      <th>freq</th>\n",
       "      <td>4825</td>\n",
       "      <td>30</td>\n",
       "    </tr>\n",
       "  </tbody>\n",
       "</table>\n",
       "</div>"
      ],
      "text/plain": [
       "       Category                 Message\n",
       "count      5572                    5572\n",
       "unique        2                    5157\n",
       "top         ham  Sorry, I'll call later\n",
       "freq       4825                      30"
      ]
     },
     "execution_count": 6,
     "metadata": {},
     "output_type": "execute_result"
    }
   ],
   "source": [
    "# Exploratory data analysis using .describe()\n",
    "df_mail.describe()"
   ]
  },
  {
   "cell_type": "code",
   "execution_count": 7,
   "id": "9ca084ad",
   "metadata": {},
   "outputs": [
    {
     "data": {
      "text/plain": [
       "Category    0\n",
       "Message     0\n",
       "dtype: int64"
      ]
     },
     "execution_count": 7,
     "metadata": {},
     "output_type": "execute_result"
    }
   ],
   "source": [
    "# checking the number of null rows\n",
    "df_mail.isnull().sum()"
   ]
  },
  {
   "cell_type": "markdown",
   "id": "8d486c95",
   "metadata": {},
   "source": [
    "*Here we can see that none of the rows contain any empty rows so we don't need to clean any Nonetype, NA, empty values and replace them with empty strings.*"
   ]
  },
  {
   "cell_type": "markdown",
   "id": "01b732a6",
   "metadata": {},
   "source": [
    "### Label encoding\n",
    "Lebl encoding is a crucial part of data preproceswsing since it is easier to predict categorical data that is in numerical form"
   ]
  },
  {
   "cell_type": "markdown",
   "id": "36a47f51",
   "metadata": {},
   "source": [
    "### *spam = 1*\n",
    "### *ham = 0*"
   ]
  },
  {
   "cell_type": "code",
   "execution_count": 8,
   "id": "a004b2f8",
   "metadata": {},
   "outputs": [
    {
     "data": {
      "text/html": [
       "<div>\n",
       "<style scoped>\n",
       "    .dataframe tbody tr th:only-of-type {\n",
       "        vertical-align: middle;\n",
       "    }\n",
       "\n",
       "    .dataframe tbody tr th {\n",
       "        vertical-align: top;\n",
       "    }\n",
       "\n",
       "    .dataframe thead th {\n",
       "        text-align: right;\n",
       "    }\n",
       "</style>\n",
       "<table border=\"1\" class=\"dataframe\">\n",
       "  <thead>\n",
       "    <tr style=\"text-align: right;\">\n",
       "      <th></th>\n",
       "      <th>Category</th>\n",
       "      <th>Message</th>\n",
       "    </tr>\n",
       "  </thead>\n",
       "  <tbody>\n",
       "    <tr>\n",
       "      <th>0</th>\n",
       "      <td>ham</td>\n",
       "      <td>Go until jurong point, crazy.. Available only ...</td>\n",
       "    </tr>\n",
       "    <tr>\n",
       "      <th>1</th>\n",
       "      <td>ham</td>\n",
       "      <td>Ok lar... Joking wif u oni...</td>\n",
       "    </tr>\n",
       "    <tr>\n",
       "      <th>2</th>\n",
       "      <td>spam</td>\n",
       "      <td>Free entry in 2 a wkly comp to win FA Cup fina...</td>\n",
       "    </tr>\n",
       "    <tr>\n",
       "      <th>3</th>\n",
       "      <td>ham</td>\n",
       "      <td>U dun say so early hor... U c already then say...</td>\n",
       "    </tr>\n",
       "    <tr>\n",
       "      <th>4</th>\n",
       "      <td>ham</td>\n",
       "      <td>Nah I don't think he goes to usf, he lives aro...</td>\n",
       "    </tr>\n",
       "  </tbody>\n",
       "</table>\n",
       "</div>"
      ],
      "text/plain": [
       "  Category                                            Message\n",
       "0      ham  Go until jurong point, crazy.. Available only ...\n",
       "1      ham                      Ok lar... Joking wif u oni...\n",
       "2     spam  Free entry in 2 a wkly comp to win FA Cup fina...\n",
       "3      ham  U dun say so early hor... U c already then say...\n",
       "4      ham  Nah I don't think he goes to usf, he lives aro..."
      ]
     },
     "execution_count": 8,
     "metadata": {},
     "output_type": "execute_result"
    }
   ],
   "source": [
    "df_mail.head()"
   ]
  },
  {
   "cell_type": "code",
   "execution_count": 9,
   "id": "8032d817",
   "metadata": {
    "scrolled": false
   },
   "outputs": [
    {
     "data": {
      "text/html": [
       "<div>\n",
       "<style scoped>\n",
       "    .dataframe tbody tr th:only-of-type {\n",
       "        vertical-align: middle;\n",
       "    }\n",
       "\n",
       "    .dataframe tbody tr th {\n",
       "        vertical-align: top;\n",
       "    }\n",
       "\n",
       "    .dataframe thead th {\n",
       "        text-align: right;\n",
       "    }\n",
       "</style>\n",
       "<table border=\"1\" class=\"dataframe\">\n",
       "  <thead>\n",
       "    <tr style=\"text-align: right;\">\n",
       "      <th></th>\n",
       "      <th>Category</th>\n",
       "      <th>Message</th>\n",
       "    </tr>\n",
       "  </thead>\n",
       "  <tbody>\n",
       "    <tr>\n",
       "      <th>0</th>\n",
       "      <td>0</td>\n",
       "      <td>Go until jurong point, crazy.. Available only ...</td>\n",
       "    </tr>\n",
       "    <tr>\n",
       "      <th>1</th>\n",
       "      <td>0</td>\n",
       "      <td>Ok lar... Joking wif u oni...</td>\n",
       "    </tr>\n",
       "    <tr>\n",
       "      <th>2</th>\n",
       "      <td>1</td>\n",
       "      <td>Free entry in 2 a wkly comp to win FA Cup fina...</td>\n",
       "    </tr>\n",
       "    <tr>\n",
       "      <th>3</th>\n",
       "      <td>0</td>\n",
       "      <td>U dun say so early hor... U c already then say...</td>\n",
       "    </tr>\n",
       "    <tr>\n",
       "      <th>4</th>\n",
       "      <td>0</td>\n",
       "      <td>Nah I don't think he goes to usf, he lives aro...</td>\n",
       "    </tr>\n",
       "  </tbody>\n",
       "</table>\n",
       "</div>"
      ],
      "text/plain": [
       "  Category                                            Message\n",
       "0        0  Go until jurong point, crazy.. Available only ...\n",
       "1        0                      Ok lar... Joking wif u oni...\n",
       "2        1  Free entry in 2 a wkly comp to win FA Cup fina...\n",
       "3        0  U dun say so early hor... U c already then say...\n",
       "4        0  Nah I don't think he goes to usf, he lives aro..."
      ]
     },
     "execution_count": 9,
     "metadata": {},
     "output_type": "execute_result"
    }
   ],
   "source": [
    "# filtering all the rows of ham category\n",
    "ham_filt=df_mail['Category']=='ham'\n",
    "df_mail.loc[ham_filt,'Category']=0\n",
    "\n",
    "# filtering all the rows for the spam category\n",
    "spam_filt=df_mail['Category']=='spam'\n",
    "df_mail.loc[spam_filt,'Category']=1\n",
    "\n",
    "# viewing the changed dataframe\n",
    "df_mail.head()"
   ]
  },
  {
   "cell_type": "code",
   "execution_count": 46,
   "id": "21a0a684",
   "metadata": {},
   "outputs": [
    {
     "data": {
      "text/plain": [
       "<AxesSubplot: xlabel='Category', ylabel='Count'>"
      ]
     },
     "execution_count": 46,
     "metadata": {},
     "output_type": "execute_result"
    },
    {
     "data": {
      "image/png": "[encoded data removed]",
      "text/plain": [
       "<Figure size 640x480 with 1 Axes>"
      ]
     },
     "metadata": {},
     "output_type": "display_data"
    }
   ],
   "source": [
    "%matplotlib inline\n",
    "# visualizing the frequency counts of spam and ham mail in the dataset usinh a histogram\n",
    "sns.histplot(df_mail['Category'].astype('str'))\n",
    "\n"
   ]
  },
  {
   "cell_type": "markdown",
   "id": "7cd5aca7",
   "metadata": {},
   "source": [
    "# -------------------------------------------------------------------------------------------------------\n",
    "### *Separating the independent variables and Target variables*\n",
    "1. We first split the labels and the texts\n",
    "2. Then we use the train test split to split the dataset into training and testing data\n",
    "3. We perform feature extraction so that the text data can be evalauted (using the TfidfVectorizer)"
   ]
  },
  {
   "cell_type": "markdown",
   "id": "f62dde38",
   "metadata": {},
   "source": [
    "#### *split the labels and the texts*"
   ]
  },
  {
   "cell_type": "code",
   "execution_count": 11,
   "id": "2328831d",
   "metadata": {
    "scrolled": true
   },
   "outputs": [
    {
     "data": {
      "text/plain": [
       "0    Go until jurong point, crazy.. Available only ...\n",
       "1                        Ok lar... Joking wif u oni...\n",
       "2    Free entry in 2 a wkly comp to win FA Cup fina...\n",
       "3    U dun say so early hor... U c already then say...\n",
       "4    Nah I don't think he goes to usf, he lives aro...\n",
       "Name: Message, dtype: object"
      ]
     },
     "execution_count": 11,
     "metadata": {},
     "output_type": "execute_result"
    }
   ],
   "source": [
    "# x contains all the email content\n",
    "x=df_mail['Message']\n",
    "x.head()"
   ]
  },
  {
   "cell_type": "code",
   "execution_count": 12,
   "id": "74e31f11",
   "metadata": {},
   "outputs": [
    {
     "data": {
      "text/plain": [
       "0    0\n",
       "1    0\n",
       "2    1\n",
       "3    0\n",
       "4    0\n",
       "Name: Category, dtype: object"
      ]
     },
     "execution_count": 12,
     "metadata": {},
     "output_type": "execute_result"
    }
   ],
   "source": [
    "# y contains all the categories\n",
    "y=df_mail[\"Category\"]\n",
    "y.head()"
   ]
  },
  {
   "cell_type": "markdown",
   "id": "b7fbd60a",
   "metadata": {},
   "source": [
    "#### *splitting the data into train test split*"
   ]
  },
  {
   "cell_type": "code",
   "execution_count": 13,
   "id": "be2b4721",
   "metadata": {},
   "outputs": [],
   "source": [
    "X_train, X_test, Y_train, Y_test= train_test_split(x,y, test_size=0.2, random_state=2)"
   ]
  },
  {
   "cell_type": "code",
   "execution_count": 14,
   "id": "56a79057",
   "metadata": {},
   "outputs": [
    {
     "name": "stdout",
     "output_type": "stream",
     "text": [
      "(4457,)\n",
      "(1115,)\n",
      "(4457,)\n",
      "(1115,)\n"
     ]
    }
   ],
   "source": [
    "print(X_train.shape)\n",
    "print(X_test.shape)\n",
    "print(Y_train.shape)\n",
    "print(X_test.shape)"
   ]
  },
  {
   "cell_type": "markdown",
   "id": "c8621544",
   "metadata": {},
   "source": [
    "#### *Feature extraction*\n",
    "Feature extraction is done so that we can convert the textual matter present in the emails into feature vectors (numerical representation of textual data) that are easily intrepretable and useful in making predictions\n",
    "\n",
    "Here we use the *Tfidfvectorizer.*"
   ]
  },
  {
   "cell_type": "code",
   "execution_count": 15,
   "id": "1ad5195e",
   "metadata": {},
   "outputs": [],
   "source": [
    "# first we create a TfidVectorizer object\n",
    "vectorizer=TfidfVectorizer(min_df=1, stop_words='english', lowercase=True)"
   ]
  },
  {
   "cell_type": "code",
   "execution_count": 16,
   "id": "000e9ed4",
   "metadata": {},
   "outputs": [],
   "source": [
    "# fitting and transforming the training corpus\n",
    "X_train_vector=vectorizer.fit_transform(X_train)\n",
    "X_test_vector=vectorizer.transform(X_test)"
   ]
  },
  {
   "cell_type": "code",
   "execution_count": 17,
   "id": "a222fbaa",
   "metadata": {},
   "outputs": [
    {
     "name": "stdout",
     "output_type": "stream",
     "text": [
      "  (0, 4334)\t0.42941702167641554\n",
      "  (0, 3958)\t0.6161071828926097\n",
      "  (0, 6586)\t0.44333254982109394\n",
      "  (0, 6927)\t0.48935591439341625\n",
      "  (1, 2121)\t0.3573617143022146\n",
      "  (1, 1428)\t0.5869421390016223\n",
      "  (1, 6971)\t0.42812434651556874\n",
      "  (1, 3168)\t0.5869421390016223\n",
      "  (2, 5115)\t0.3408491178137899\n",
      "  (2, 7353)\t0.31988118061968496\n",
      "  (2, 3852)\t0.3408491178137899\n",
      "  (2, 4884)\t0.35749230587184955\n",
      "  (2, 5695)\t0.35749230587184955\n",
      "  (2, 806)\t0.26730249393705324\n",
      "  (2, 5894)\t0.35749230587184955\n",
      "  (2, 1876)\t0.28751725124107325\n",
      "  (2, 6878)\t0.35749230587184955\n",
      "  (3, 197)\t0.36522237107066735\n",
      "  (3, 3723)\t0.16297045459835785\n",
      "  (3, 2435)\t0.26698378141852\n",
      "  (3, 1825)\t0.26858331513730566\n",
      "  (3, 5231)\t0.2266831802864503\n",
      "  (3, 300)\t0.2915969875465198\n",
      "  (3, 7248)\t0.23571908490908416\n",
      "  (3, 5005)\t0.3169028431039865\n",
      "  (3, 2060)\t0.24915048132454623\n",
      "  (3, 7065)\t0.32795623716393424\n",
      "  (3, 7000)\t0.30072945056088285\n",
      "  (3, 7297)\t0.22192369472149484\n",
      "  (3, 1876)\t0.3080768784015236\n",
      "  (4, 6124)\t0.48347454394369993\n",
      "  (4, 6057)\t0.41131330473394123\n",
      "  (4, 7299)\t0.4345590811264181\n",
      "  (4, 4719)\t0.37885127646560024\n",
      "  (4, 3028)\t0.4345590811264181\n",
      "  (4, 4070)\t0.275431027752479\n",
      "This is the vectorized form of the mail\n"
     ]
    }
   ],
   "source": [
    "print(X_train_vector[0:5])\n",
    "print(\"This is the vectorized form of the mail\")"
   ]
  },
  {
   "cell_type": "code",
   "execution_count": 18,
   "id": "f4490802",
   "metadata": {},
   "outputs": [],
   "source": [
    "# converting the labels into type int\n",
    "Y_train=Y_train.astype('int')\n",
    "Y_test=Y_test.astype('int')"
   ]
  },
  {
   "cell_type": "markdown",
   "id": "1ac4075f",
   "metadata": {},
   "source": [
    "# -------------------------------------------------------------------------------------------------------\n",
    "### 5. Model selection and Prediction"
   ]
  },
  {
   "cell_type": "markdown",
   "id": "8b608cc9",
   "metadata": {},
   "source": [
    "###  In this section we go over five different approaches of filtering out the spam emails using machine learning. They include:\n",
    "1. Logistic Regression\n",
    "2. Decision Trees\n",
    "3. Support Vector Machine (SVM)\n",
    "4. Naive Bayes\n",
    "5. Random Forest\n",
    "\n",
    "#### *In the end we will also be comapring the accuracy of each of these models using visualisation techniques to find which model works best.*"
   ]
  },
  {
   "cell_type": "markdown",
   "id": "d3e6ecc7",
   "metadata": {},
   "source": [
    "## ***Logistic Regression***\n",
    "Logistic Regression uses the signoid function to tell us the probability of an event to be true.\n",
    "\n",
    "In this case it gives us the probability of the mail being spam (Yhat).\n",
    "\n",
    "Y_hat=P(Y=1|X)"
   ]
  },
  {
   "cell_type": "code",
   "execution_count": 19,
   "id": "cb296edb",
   "metadata": {},
   "outputs": [
    {
     "data": {
      "text/html": [
       "<style>#sk-container-id-1 {color: black;background-color: white;}#sk-container-id-1 pre{padding: 0;}#sk-container-id-1 div.sk-toggleable {background-color: white;}#sk-container-id-1 label.sk-toggleable__label {cursor: pointer;display: block;width: 100%;margin-bottom: 0;padding: 0.3em;box-sizing: border-box;text-align: center;}#sk-container-id-1 label.sk-toggleable__label-arrow:before {content: \"▸\";float: left;margin-right: 0.25em;color: #696969;}#sk-container-id-1 label.sk-toggleable__label-arrow:hover:before {color: black;}#sk-container-id-1 div.sk-estimator:hover label.sk-toggleable__label-arrow:before {color: black;}#sk-container-id-1 div.sk-toggleable__content {max-height: 0;max-width: 0;overflow: hidden;text-align: left;background-color: #f0f8ff;}#sk-container-id-1 div.sk-toggleable__content pre {margin: 0.2em;color: black;border-radius: 0.25em;background-color: #f0f8ff;}#sk-container-id-1 input.sk-toggleable__control:checked~div.sk-toggleable__content {max-height: 200px;max-width: 100%;overflow: auto;}#sk-container-id-1 input.sk-toggleable__control:checked~label.sk-toggleable__label-arrow:before {content: \"▾\";}#sk-container-id-1 div.sk-estimator input.sk-toggleable__control:checked~label.sk-toggleable__label {background-color: #d4ebff;}#sk-container-id-1 div.sk-label input.sk-toggleable__control:checked~label.sk-toggleable__label {background-color: #d4ebff;}#sk-container-id-1 input.sk-hidden--visually {border: 0;clip: rect(1px 1px 1px 1px);clip: rect(1px, 1px, 1px, 1px);height: 1px;margin: -1px;overflow: hidden;padding: 0;position: absolute;width: 1px;}#sk-container-id-1 div.sk-estimator {font-family: monospace;background-color: #f0f8ff;border: 1px dotted black;border-radius: 0.25em;box-sizing: border-box;margin-bottom: 0.5em;}#sk-container-id-1 div.sk-estimator:hover {background-color: #d4ebff;}#sk-container-id-1 div.sk-parallel-item::after {content: \"\";width: 100%;border-bottom: 1px solid gray;flex-grow: 1;}#sk-container-id-1 div.sk-label:hover label.sk-toggleable__label {background-color: #d4ebff;}#sk-container-id-1 div.sk-serial::before {content: \"\";position: absolute;border-left: 1px solid gray;box-sizing: border-box;top: 0;bottom: 0;left: 50%;z-index: 0;}#sk-container-id-1 div.sk-serial {display: flex;flex-direction: column;align-items: center;background-color: white;padding-right: 0.2em;padding-left: 0.2em;position: relative;}#sk-container-id-1 div.sk-item {position: relative;z-index: 1;}#sk-container-id-1 div.sk-parallel {display: flex;align-items: stretch;justify-content: center;background-color: white;position: relative;}#sk-container-id-1 div.sk-item::before, #sk-container-id-1 div.sk-parallel-item::before {content: \"\";position: absolute;border-left: 1px solid gray;box-sizing: border-box;top: 0;bottom: 0;left: 50%;z-index: -1;}#sk-container-id-1 div.sk-parallel-item {display: flex;flex-direction: column;z-index: 1;position: relative;background-color: white;}#sk-container-id-1 div.sk-parallel-item:first-child::after {align-self: flex-end;width: 50%;}#sk-container-id-1 div.sk-parallel-item:last-child::after {align-self: flex-start;width: 50%;}#sk-container-id-1 div.sk-parallel-item:only-child::after {width: 0;}#sk-container-id-1 div.sk-dashed-wrapped {border: 1px dashed gray;margin: 0 0.4em 0.5em 0.4em;box-sizing: border-box;padding-bottom: 0.4em;background-color: white;}#sk-container-id-1 div.sk-label label {font-family: monospace;font-weight: bold;display: inline-block;line-height: 1.2em;}#sk-container-id-1 div.sk-label-container {text-align: center;}#sk-container-id-1 div.sk-container {/* jupyter's `normalize.less` sets `[hidden] { display: none; }` but bootstrap.min.css set `[hidden] { display: none !important; }` so we also need the `!important` here to be able to override the default hidden behavior on the sphinx rendered scikit-learn.org. See: https://github.com/scikit-learn/scikit-learn/issues/21755 */display: inline-block !important;position: relative;}#sk-container-id-1 div.sk-text-repr-fallback {display: none;}</style><div id=\"sk-container-id-1\" class=\"sk-top-container\"><div class=\"sk-text-repr-fallback\"><pre>LogisticRegression(C=0.01, solver=&#x27;liblinear&#x27;)</pre><b>In a Jupyter environment, please rerun this cell to show the HTML representation or trust the notebook. <br />On GitHub, the HTML representation is unable to render, please try loading this page with nbviewer.org.</b></div><div class=\"sk-container\" hidden><div class=\"sk-item\"><div class=\"sk-estimator sk-toggleable\"><input class=\"sk-toggleable__control sk-hidden--visually\" id=\"sk-estimator-id-1\" type=\"checkbox\" checked><label for=\"sk-estimator-id-1\" class=\"sk-toggleable__label sk-toggleable__label-arrow\">LogisticRegression</label><div class=\"sk-toggleable__content\"><pre>LogisticRegression(C=0.01, solver=&#x27;liblinear&#x27;)</pre></div></div></div></div></div>"
      ],
      "text/plain": [
       "LogisticRegression(C=0.01, solver='liblinear')"
      ]
     },
     "execution_count": 19,
     "metadata": {},
     "output_type": "execute_result"
    }
   ],
   "source": [
    "# creating a Logistic resgression object\n",
    "logr=LogisticRegression(C=0.01, solver='liblinear')\n",
    "\n",
    "# fitting the model with the training data corpus\n",
    "logr.fit(X_train_vector, Y_train)\n"
   ]
  },
  {
   "cell_type": "code",
   "execution_count": 20,
   "id": "a4e9c603",
   "metadata": {},
   "outputs": [
    {
     "name": "stdout",
     "output_type": "stream",
     "text": [
      "Results for training set\n",
      "Accuracy score:  0.8678483284720664\n",
      "F1 score:  0.8064474076948835\n"
     ]
    }
   ],
   "source": [
    "print('Results for training set')\n",
    "\n",
    "# making in sample prediction on the training corpus\n",
    "Yhat_train=logr.predict(X_train_vector)\n",
    "\n",
    "# Calculating the accuracy, f1_score\n",
    "as_logr_train= accuracy_score(Y_train, Yhat_train)\n",
    "f1_logr_train=f1_score(Y_train, Yhat_train, average='weighted')\n",
    "\n",
    "print('Accuracy score: ', as_logr_train)\n",
    "print('F1 score: ', f1_logr_train)"
   ]
  },
  {
   "cell_type": "code",
   "execution_count": 21,
   "id": "33d20c98",
   "metadata": {},
   "outputs": [
    {
     "name": "stdout",
     "output_type": "stream",
     "text": [
      "Results for test set\n",
      "Accuracy score:  0.8582959641255605\n",
      "F1 score:  0.7928467545059473\n"
     ]
    }
   ],
   "source": [
    "print('Results for test set')\n",
    "\n",
    "# making out of sample prediction on the testing corpus\n",
    "Yhat_test=logr.predict(X_test_vector)\n",
    "\n",
    "# Calculating the accuracy, f1_score\n",
    "as_logr_test= accuracy_score(Y_test, Yhat_test)\n",
    "f1_logr_test= f1_score(Y_test, Yhat_test, average='weighted')\n",
    "\n",
    "print('Accuracy score: ',as_logr_test)\n",
    "print('F1 score: ', f1_logr_test)"
   ]
  },
  {
   "cell_type": "markdown",
   "id": "4860e0bd",
   "metadata": {},
   "source": [
    "## ***Decision Trees***\n",
    "A decision tree is a popular machine learning algorithm that works by recursively partitioning the data into smaller subsets based on the values of input features, until a stopping criterion is met. \n"
   ]
  },
  {
   "cell_type": "code",
   "execution_count": 22,
   "id": "68c68002",
   "metadata": {},
   "outputs": [
    {
     "data": {
      "text/html": [
       "<style>#sk-container-id-2 {color: black;background-color: white;}#sk-container-id-2 pre{padding: 0;}#sk-container-id-2 div.sk-toggleable {background-color: white;}#sk-container-id-2 label.sk-toggleable__label {cursor: pointer;display: block;width: 100%;margin-bottom: 0;padding: 0.3em;box-sizing: border-box;text-align: center;}#sk-container-id-2 label.sk-toggleable__label-arrow:before {content: \"▸\";float: left;margin-right: 0.25em;color: #696969;}#sk-container-id-2 label.sk-toggleable__label-arrow:hover:before {color: black;}#sk-container-id-2 div.sk-estimator:hover label.sk-toggleable__label-arrow:before {color: black;}#sk-container-id-2 div.sk-toggleable__content {max-height: 0;max-width: 0;overflow: hidden;text-align: left;background-color: #f0f8ff;}#sk-container-id-2 div.sk-toggleable__content pre {margin: 0.2em;color: black;border-radius: 0.25em;background-color: #f0f8ff;}#sk-container-id-2 input.sk-toggleable__control:checked~div.sk-toggleable__content {max-height: 200px;max-width: 100%;overflow: auto;}#sk-container-id-2 input.sk-toggleable__control:checked~label.sk-toggleable__label-arrow:before {content: \"▾\";}#sk-container-id-2 div.sk-estimator input.sk-toggleable__control:checked~label.sk-toggleable__label {background-color: #d4ebff;}#sk-container-id-2 div.sk-label input.sk-toggleable__control:checked~label.sk-toggleable__label {background-color: #d4ebff;}#sk-container-id-2 input.sk-hidden--visually {border: 0;clip: rect(1px 1px 1px 1px);clip: rect(1px, 1px, 1px, 1px);height: 1px;margin: -1px;overflow: hidden;padding: 0;position: absolute;width: 1px;}#sk-container-id-2 div.sk-estimator {font-family: monospace;background-color: #f0f8ff;border: 1px dotted black;border-radius: 0.25em;box-sizing: border-box;margin-bottom: 0.5em;}#sk-container-id-2 div.sk-estimator:hover {background-color: #d4ebff;}#sk-container-id-2 div.sk-parallel-item::after {content: \"\";width: 100%;border-bottom: 1px solid gray;flex-grow: 1;}#sk-container-id-2 div.sk-label:hover label.sk-toggleable__label {background-color: #d4ebff;}#sk-container-id-2 div.sk-serial::before {content: \"\";position: absolute;border-left: 1px solid gray;box-sizing: border-box;top: 0;bottom: 0;left: 50%;z-index: 0;}#sk-container-id-2 div.sk-serial {display: flex;flex-direction: column;align-items: center;background-color: white;padding-right: 0.2em;padding-left: 0.2em;position: relative;}#sk-container-id-2 div.sk-item {position: relative;z-index: 1;}#sk-container-id-2 div.sk-parallel {display: flex;align-items: stretch;justify-content: center;background-color: white;position: relative;}#sk-container-id-2 div.sk-item::before, #sk-container-id-2 div.sk-parallel-item::before {content: \"\";position: absolute;border-left: 1px solid gray;box-sizing: border-box;top: 0;bottom: 0;left: 50%;z-index: -1;}#sk-container-id-2 div.sk-parallel-item {display: flex;flex-direction: column;z-index: 1;position: relative;background-color: white;}#sk-container-id-2 div.sk-parallel-item:first-child::after {align-self: flex-end;width: 50%;}#sk-container-id-2 div.sk-parallel-item:last-child::after {align-self: flex-start;width: 50%;}#sk-container-id-2 div.sk-parallel-item:only-child::after {width: 0;}#sk-container-id-2 div.sk-dashed-wrapped {border: 1px dashed gray;margin: 0 0.4em 0.5em 0.4em;box-sizing: border-box;padding-bottom: 0.4em;background-color: white;}#sk-container-id-2 div.sk-label label {font-family: monospace;font-weight: bold;display: inline-block;line-height: 1.2em;}#sk-container-id-2 div.sk-label-container {text-align: center;}#sk-container-id-2 div.sk-container {/* jupyter's `normalize.less` sets `[hidden] { display: none; }` but bootstrap.min.css set `[hidden] { display: none !important; }` so we also need the `!important` here to be able to override the default hidden behavior on the sphinx rendered scikit-learn.org. See: https://github.com/scikit-learn/scikit-learn/issues/21755 */display: inline-block !important;position: relative;}#sk-container-id-2 div.sk-text-repr-fallback {display: none;}</style><div id=\"sk-container-id-2\" class=\"sk-top-container\"><div class=\"sk-text-repr-fallback\"><pre>DecisionTreeClassifier(criterion=&#x27;entropy&#x27;)</pre><b>In a Jupyter environment, please rerun this cell to show the HTML representation or trust the notebook. <br />On GitHub, the HTML representation is unable to render, please try loading this page with nbviewer.org.</b></div><div class=\"sk-container\" hidden><div class=\"sk-item\"><div class=\"sk-estimator sk-toggleable\"><input class=\"sk-toggleable__control sk-hidden--visually\" id=\"sk-estimator-id-2\" type=\"checkbox\" checked><label for=\"sk-estimator-id-2\" class=\"sk-toggleable__label sk-toggleable__label-arrow\">DecisionTreeClassifier</label><div class=\"sk-toggleable__content\"><pre>DecisionTreeClassifier(criterion=&#x27;entropy&#x27;)</pre></div></div></div></div></div>"
      ],
      "text/plain": [
       "DecisionTreeClassifier(criterion='entropy')"
      ]
     },
     "execution_count": 22,
     "metadata": {},
     "output_type": "execute_result"
    }
   ],
   "source": [
    "# creating the decision tree object\n",
    "dt=DecisionTreeClassifier(criterion='entropy')\n",
    "\n",
    "# fitting the Decision tree object\n",
    "dt.fit(X_train_vector,Y_train)"
   ]
  },
  {
   "cell_type": "code",
   "execution_count": 23,
   "id": "ef02a29f",
   "metadata": {},
   "outputs": [
    {
     "name": "stdout",
     "output_type": "stream",
     "text": [
      "Resuts for training set\n",
      "Accuracy score:  1.0\n",
      "F1 score:  1.0\n"
     ]
    }
   ],
   "source": [
    "print('Resuts for training set')\n",
    "\n",
    "# making in sample prediction on the training corpus\n",
    "Yhat_train_dt=dt.predict(X_train_vector)\n",
    "\n",
    "# Calculating the accuracy, f1_score\n",
    "as_dt_train= accuracy_score(Y_train, Yhat_train_dt)\n",
    "f1_dt_train=f1_score(Y_train, Yhat_train_dt, average='weighted')\n",
    "\n",
    "print('Accuracy score: ', as_dt_train)\n",
    "print('F1 score: ', f1_dt_train)"
   ]
  },
  {
   "cell_type": "code",
   "execution_count": 24,
   "id": "bc8ff226",
   "metadata": {},
   "outputs": [
    {
     "name": "stdout",
     "output_type": "stream",
     "text": [
      "Results for test set\n",
      "Accuracy score:  0.9614349775784753\n",
      "F1 score:  0.9606239968596916\n"
     ]
    }
   ],
   "source": [
    "print('Results for test set')\n",
    "\n",
    "# making in sample prediction on the training corpus\n",
    "Yhat_test_dt=dt.predict(X_test_vector)\n",
    "\n",
    "# Calculating the accuracy, f1_score\n",
    "as_dt_test= accuracy_score(Y_test, Yhat_test_dt)\n",
    "f1_dt_test=f1_score(Y_test, Yhat_test_dt, average='weighted')\n",
    "\n",
    "print('Accuracy score: ', as_dt_test)\n",
    "print('F1 score: ', f1_dt_test)"
   ]
  },
  {
   "cell_type": "markdown",
   "id": "145d7c56",
   "metadata": {},
   "source": [
    "## ***SVM (Support Vector Machine)***\n",
    "Support Vector Machine (SVM) works by finding the best possible boundary between different data points by transforming it into a higher dimention such that the decsion boundary is a hyperplane"
   ]
  },
  {
   "cell_type": "code",
   "execution_count": 25,
   "id": "953f65f4",
   "metadata": {},
   "outputs": [
    {
     "data": {
      "text/html": [
       "<style>#sk-container-id-3 {color: black;background-color: white;}#sk-container-id-3 pre{padding: 0;}#sk-container-id-3 div.sk-toggleable {background-color: white;}#sk-container-id-3 label.sk-toggleable__label {cursor: pointer;display: block;width: 100%;margin-bottom: 0;padding: 0.3em;box-sizing: border-box;text-align: center;}#sk-container-id-3 label.sk-toggleable__label-arrow:before {content: \"▸\";float: left;margin-right: 0.25em;color: #696969;}#sk-container-id-3 label.sk-toggleable__label-arrow:hover:before {color: black;}#sk-container-id-3 div.sk-estimator:hover label.sk-toggleable__label-arrow:before {color: black;}#sk-container-id-3 div.sk-toggleable__content {max-height: 0;max-width: 0;overflow: hidden;text-align: left;background-color: #f0f8ff;}#sk-container-id-3 div.sk-toggleable__content pre {margin: 0.2em;color: black;border-radius: 0.25em;background-color: #f0f8ff;}#sk-container-id-3 input.sk-toggleable__control:checked~div.sk-toggleable__content {max-height: 200px;max-width: 100%;overflow: auto;}#sk-container-id-3 input.sk-toggleable__control:checked~label.sk-toggleable__label-arrow:before {content: \"▾\";}#sk-container-id-3 div.sk-estimator input.sk-toggleable__control:checked~label.sk-toggleable__label {background-color: #d4ebff;}#sk-container-id-3 div.sk-label input.sk-toggleable__control:checked~label.sk-toggleable__label {background-color: #d4ebff;}#sk-container-id-3 input.sk-hidden--visually {border: 0;clip: rect(1px 1px 1px 1px);clip: rect(1px, 1px, 1px, 1px);height: 1px;margin: -1px;overflow: hidden;padding: 0;position: absolute;width: 1px;}#sk-container-id-3 div.sk-estimator {font-family: monospace;background-color: #f0f8ff;border: 1px dotted black;border-radius: 0.25em;box-sizing: border-box;margin-bottom: 0.5em;}#sk-container-id-3 div.sk-estimator:hover {background-color: #d4ebff;}#sk-container-id-3 div.sk-parallel-item::after {content: \"\";width: 100%;border-bottom: 1px solid gray;flex-grow: 1;}#sk-container-id-3 div.sk-label:hover label.sk-toggleable__label {background-color: #d4ebff;}#sk-container-id-3 div.sk-serial::before {content: \"\";position: absolute;border-left: 1px solid gray;box-sizing: border-box;top: 0;bottom: 0;left: 50%;z-index: 0;}#sk-container-id-3 div.sk-serial {display: flex;flex-direction: column;align-items: center;background-color: white;padding-right: 0.2em;padding-left: 0.2em;position: relative;}#sk-container-id-3 div.sk-item {position: relative;z-index: 1;}#sk-container-id-3 div.sk-parallel {display: flex;align-items: stretch;justify-content: center;background-color: white;position: relative;}#sk-container-id-3 div.sk-item::before, #sk-container-id-3 div.sk-parallel-item::before {content: \"\";position: absolute;border-left: 1px solid gray;box-sizing: border-box;top: 0;bottom: 0;left: 50%;z-index: -1;}#sk-container-id-3 div.sk-parallel-item {display: flex;flex-direction: column;z-index: 1;position: relative;background-color: white;}#sk-container-id-3 div.sk-parallel-item:first-child::after {align-self: flex-end;width: 50%;}#sk-container-id-3 div.sk-parallel-item:last-child::after {align-self: flex-start;width: 50%;}#sk-container-id-3 div.sk-parallel-item:only-child::after {width: 0;}#sk-container-id-3 div.sk-dashed-wrapped {border: 1px dashed gray;margin: 0 0.4em 0.5em 0.4em;box-sizing: border-box;padding-bottom: 0.4em;background-color: white;}#sk-container-id-3 div.sk-label label {font-family: monospace;font-weight: bold;display: inline-block;line-height: 1.2em;}#sk-container-id-3 div.sk-label-container {text-align: center;}#sk-container-id-3 div.sk-container {/* jupyter's `normalize.less` sets `[hidden] { display: none; }` but bootstrap.min.css set `[hidden] { display: none !important; }` so we also need the `!important` here to be able to override the default hidden behavior on the sphinx rendered scikit-learn.org. See: https://github.com/scikit-learn/scikit-learn/issues/21755 */display: inline-block !important;position: relative;}#sk-container-id-3 div.sk-text-repr-fallback {display: none;}</style><div id=\"sk-container-id-3\" class=\"sk-top-container\"><div class=\"sk-text-repr-fallback\"><pre>SVC()</pre><b>In a Jupyter environment, please rerun this cell to show the HTML representation or trust the notebook. <br />On GitHub, the HTML representation is unable to render, please try loading this page with nbviewer.org.</b></div><div class=\"sk-container\" hidden><div class=\"sk-item\"><div class=\"sk-estimator sk-toggleable\"><input class=\"sk-toggleable__control sk-hidden--visually\" id=\"sk-estimator-id-3\" type=\"checkbox\" checked><label for=\"sk-estimator-id-3\" class=\"sk-toggleable__label sk-toggleable__label-arrow\">SVC</label><div class=\"sk-toggleable__content\"><pre>SVC()</pre></div></div></div></div></div>"
      ],
      "text/plain": [
       "SVC()"
      ]
     },
     "execution_count": 25,
     "metadata": {},
     "output_type": "execute_result"
    }
   ],
   "source": [
    "# creating an svm object for classification\n",
    "svm=SVC(kernel='rbf')\n",
    "\n",
    "# fitting the model with the training data\n",
    "svm.fit(X_train_vector, Y_train)"
   ]
  },
  {
   "cell_type": "code",
   "execution_count": 26,
   "id": "4e2c5985",
   "metadata": {},
   "outputs": [
    {
     "name": "stdout",
     "output_type": "stream",
     "text": [
      "Results for training set\n",
      "Accuracy score:  0.9984294368409243\n",
      "F1 score:  0.9984254525150595\n"
     ]
    }
   ],
   "source": [
    "print('Results for training set')\n",
    "\n",
    "# making in sample prediction on the training corpus\n",
    "Yhat_train_svm=svm.predict(X_train_vector)\n",
    "\n",
    "# Calculating the accuracy, f1_score\n",
    "as_svm_train= accuracy_score(Y_train, Yhat_train_svm)\n",
    "f1_svm_train=f1_score(Y_train, Yhat_train_svm, average='weighted')\n",
    "\n",
    "print('Accuracy score: ', as_svm_train)\n",
    "print('F1 score: ', f1_svm_train)"
   ]
  },
  {
   "cell_type": "code",
   "execution_count": 27,
   "id": "ccfca955",
   "metadata": {},
   "outputs": [
    {
     "name": "stdout",
     "output_type": "stream",
     "text": [
      "Results for test set\n",
      "Accuracy score:  0.9730941704035875\n",
      "F1 score:  0.9718906322045336\n"
     ]
    }
   ],
   "source": [
    "print('Results for test set')\n",
    "\n",
    "# making in sample prediction on the training corpus\n",
    "Yhat_test_svm=svm.predict(X_test_vector)\n",
    "\n",
    "# Calculating the accuracy, f1_score\n",
    "as_svm_test= accuracy_score(Y_test, Yhat_test_svm)\n",
    "f1_svm_test=f1_score(Y_test, Yhat_test_svm, average='weighted')\n",
    "\n",
    "print('Accuracy score: ', as_svm_test)\n",
    "print('F1 score: ', f1_svm_test)"
   ]
  },
  {
   "cell_type": "markdown",
   "id": "80b59bb7",
   "metadata": {},
   "source": [
    "## ***Naive Bayes***\n",
    "\n",
    "Naive Bayes assumes that the features we're looking at are all independent of each other, which is usually not true in the real world, hence the term \"naive\".\n"
   ]
  },
  {
   "cell_type": "code",
   "execution_count": 28,
   "id": "79c2a9df",
   "metadata": {},
   "outputs": [
    {
     "data": {
      "text/html": [
       "<style>#sk-container-id-4 {color: black;background-color: white;}#sk-container-id-4 pre{padding: 0;}#sk-container-id-4 div.sk-toggleable {background-color: white;}#sk-container-id-4 label.sk-toggleable__label {cursor: pointer;display: block;width: 100%;margin-bottom: 0;padding: 0.3em;box-sizing: border-box;text-align: center;}#sk-container-id-4 label.sk-toggleable__label-arrow:before {content: \"▸\";float: left;margin-right: 0.25em;color: #696969;}#sk-container-id-4 label.sk-toggleable__label-arrow:hover:before {color: black;}#sk-container-id-4 div.sk-estimator:hover label.sk-toggleable__label-arrow:before {color: black;}#sk-container-id-4 div.sk-toggleable__content {max-height: 0;max-width: 0;overflow: hidden;text-align: left;background-color: #f0f8ff;}#sk-container-id-4 div.sk-toggleable__content pre {margin: 0.2em;color: black;border-radius: 0.25em;background-color: #f0f8ff;}#sk-container-id-4 input.sk-toggleable__control:checked~div.sk-toggleable__content {max-height: 200px;max-width: 100%;overflow: auto;}#sk-container-id-4 input.sk-toggleable__control:checked~label.sk-toggleable__label-arrow:before {content: \"▾\";}#sk-container-id-4 div.sk-estimator input.sk-toggleable__control:checked~label.sk-toggleable__label {background-color: #d4ebff;}#sk-container-id-4 div.sk-label input.sk-toggleable__control:checked~label.sk-toggleable__label {background-color: #d4ebff;}#sk-container-id-4 input.sk-hidden--visually {border: 0;clip: rect(1px 1px 1px 1px);clip: rect(1px, 1px, 1px, 1px);height: 1px;margin: -1px;overflow: hidden;padding: 0;position: absolute;width: 1px;}#sk-container-id-4 div.sk-estimator {font-family: monospace;background-color: #f0f8ff;border: 1px dotted black;border-radius: 0.25em;box-sizing: border-box;margin-bottom: 0.5em;}#sk-container-id-4 div.sk-estimator:hover {background-color: #d4ebff;}#sk-container-id-4 div.sk-parallel-item::after {content: \"\";width: 100%;border-bottom: 1px solid gray;flex-grow: 1;}#sk-container-id-4 div.sk-label:hover label.sk-toggleable__label {background-color: #d4ebff;}#sk-container-id-4 div.sk-serial::before {content: \"\";position: absolute;border-left: 1px solid gray;box-sizing: border-box;top: 0;bottom: 0;left: 50%;z-index: 0;}#sk-container-id-4 div.sk-serial {display: flex;flex-direction: column;align-items: center;background-color: white;padding-right: 0.2em;padding-left: 0.2em;position: relative;}#sk-container-id-4 div.sk-item {position: relative;z-index: 1;}#sk-container-id-4 div.sk-parallel {display: flex;align-items: stretch;justify-content: center;background-color: white;position: relative;}#sk-container-id-4 div.sk-item::before, #sk-container-id-4 div.sk-parallel-item::before {content: \"\";position: absolute;border-left: 1px solid gray;box-sizing: border-box;top: 0;bottom: 0;left: 50%;z-index: -1;}#sk-container-id-4 div.sk-parallel-item {display: flex;flex-direction: column;z-index: 1;position: relative;background-color: white;}#sk-container-id-4 div.sk-parallel-item:first-child::after {align-self: flex-end;width: 50%;}#sk-container-id-4 div.sk-parallel-item:last-child::after {align-self: flex-start;width: 50%;}#sk-container-id-4 div.sk-parallel-item:only-child::after {width: 0;}#sk-container-id-4 div.sk-dashed-wrapped {border: 1px dashed gray;margin: 0 0.4em 0.5em 0.4em;box-sizing: border-box;padding-bottom: 0.4em;background-color: white;}#sk-container-id-4 div.sk-label label {font-family: monospace;font-weight: bold;display: inline-block;line-height: 1.2em;}#sk-container-id-4 div.sk-label-container {text-align: center;}#sk-container-id-4 div.sk-container {/* jupyter's `normalize.less` sets `[hidden] { display: none; }` but bootstrap.min.css set `[hidden] { display: none !important; }` so we also need the `!important` here to be able to override the default hidden behavior on the sphinx rendered scikit-learn.org. See: https://github.com/scikit-learn/scikit-learn/issues/21755 */display: inline-block !important;position: relative;}#sk-container-id-4 div.sk-text-repr-fallback {display: none;}</style><div id=\"sk-container-id-4\" class=\"sk-top-container\"><div class=\"sk-text-repr-fallback\"><pre>MultinomialNB()</pre><b>In a Jupyter environment, please rerun this cell to show the HTML representation or trust the notebook. <br />On GitHub, the HTML representation is unable to render, please try loading this page with nbviewer.org.</b></div><div class=\"sk-container\" hidden><div class=\"sk-item\"><div class=\"sk-estimator sk-toggleable\"><input class=\"sk-toggleable__control sk-hidden--visually\" id=\"sk-estimator-id-4\" type=\"checkbox\" checked><label for=\"sk-estimator-id-4\" class=\"sk-toggleable__label sk-toggleable__label-arrow\">MultinomialNB</label><div class=\"sk-toggleable__content\"><pre>MultinomialNB()</pre></div></div></div></div></div>"
      ],
      "text/plain": [
       "MultinomialNB()"
      ]
     },
     "execution_count": 28,
     "metadata": {},
     "output_type": "execute_result"
    }
   ],
   "source": [
    "# creating a naive bayes model object\n",
    "nb=MultinomialNB()\n",
    "\n",
    "# fitting the model with the training corpus from the dataset\n",
    "nb.fit(X_train_vector, Y_train)"
   ]
  },
  {
   "cell_type": "code",
   "execution_count": 29,
   "id": "4020762d",
   "metadata": {},
   "outputs": [
    {
     "name": "stdout",
     "output_type": "stream",
     "text": [
      "Results for training set\n",
      "Accuracy score:  0.9838456360780794\n",
      "F1 score:  0.9833942981249612\n"
     ]
    }
   ],
   "source": [
    "print('Results for training set')\n",
    "\n",
    "# making in sample prediction on the training corpus\n",
    "Yhat_train_nb=nb.predict(X_train_vector)\n",
    "\n",
    "# Calculating the accuracy, f1_score\n",
    "as_nb_train= accuracy_score(Y_train, Yhat_train_nb)\n",
    "f1_nb_train=f1_score(Y_train, Yhat_train_nb, average='weighted')\n",
    "\n",
    "print('Accuracy score: ', as_nb_train)\n",
    "print('F1 score: ', f1_nb_train)"
   ]
  },
  {
   "cell_type": "code",
   "execution_count": 30,
   "id": "23a64cd0",
   "metadata": {},
   "outputs": [
    {
     "name": "stdout",
     "output_type": "stream",
     "text": [
      "Results for test set\n",
      "Accuracy score:  0.9614349775784753\n",
      "F1 score:  0.9588214886623955\n"
     ]
    }
   ],
   "source": [
    "print('Results for test set')\n",
    "\n",
    "# making in sample prediction on the training corpus\n",
    "Yhat_test_nb=nb.predict(X_test_vector)\n",
    "\n",
    "# Calculating the accuracy, f1_score\n",
    "as_nb_test= accuracy_score(Y_test, Yhat_test_nb)\n",
    "f1_nb_test=f1_score(Y_test, Yhat_test_nb, average='weighted')\n",
    "\n",
    "print('Accuracy score: ', as_nb_test)\n",
    "print('F1 score: ', f1_nb_test)"
   ]
  },
  {
   "cell_type": "markdown",
   "id": "83fd0e9f",
   "metadata": {},
   "source": [
    "## ***Random forest classification***\n"
   ]
  },
  {
   "cell_type": "code",
   "execution_count": 83,
   "id": "b6d93a95",
   "metadata": {},
   "outputs": [
    {
     "data": {
      "text/html": [
       "<style>#sk-container-id-5 {color: black;background-color: white;}#sk-container-id-5 pre{padding: 0;}#sk-container-id-5 div.sk-toggleable {background-color: white;}#sk-container-id-5 label.sk-toggleable__label {cursor: pointer;display: block;width: 100%;margin-bottom: 0;padding: 0.3em;box-sizing: border-box;text-align: center;}#sk-container-id-5 label.sk-toggleable__label-arrow:before {content: \"▸\";float: left;margin-right: 0.25em;color: #696969;}#sk-container-id-5 label.sk-toggleable__label-arrow:hover:before {color: black;}#sk-container-id-5 div.sk-estimator:hover label.sk-toggleable__label-arrow:before {color: black;}#sk-container-id-5 div.sk-toggleable__content {max-height: 0;max-width: 0;overflow: hidden;text-align: left;background-color: #f0f8ff;}#sk-container-id-5 div.sk-toggleable__content pre {margin: 0.2em;color: black;border-radius: 0.25em;background-color: #f0f8ff;}#sk-container-id-5 input.sk-toggleable__control:checked~div.sk-toggleable__content {max-height: 200px;max-width: 100%;overflow: auto;}#sk-container-id-5 input.sk-toggleable__control:checked~label.sk-toggleable__label-arrow:before {content: \"▾\";}#sk-container-id-5 div.sk-estimator input.sk-toggleable__control:checked~label.sk-toggleable__label {background-color: #d4ebff;}#sk-container-id-5 div.sk-label input.sk-toggleable__control:checked~label.sk-toggleable__label {background-color: #d4ebff;}#sk-container-id-5 input.sk-hidden--visually {border: 0;clip: rect(1px 1px 1px 1px);clip: rect(1px, 1px, 1px, 1px);height: 1px;margin: -1px;overflow: hidden;padding: 0;position: absolute;width: 1px;}#sk-container-id-5 div.sk-estimator {font-family: monospace;background-color: #f0f8ff;border: 1px dotted black;border-radius: 0.25em;box-sizing: border-box;margin-bottom: 0.5em;}#sk-container-id-5 div.sk-estimator:hover {background-color: #d4ebff;}#sk-container-id-5 div.sk-parallel-item::after {content: \"\";width: 100%;border-bottom: 1px solid gray;flex-grow: 1;}#sk-container-id-5 div.sk-label:hover label.sk-toggleable__label {background-color: #d4ebff;}#sk-container-id-5 div.sk-serial::before {content: \"\";position: absolute;border-left: 1px solid gray;box-sizing: border-box;top: 0;bottom: 0;left: 50%;z-index: 0;}#sk-container-id-5 div.sk-serial {display: flex;flex-direction: column;align-items: center;background-color: white;padding-right: 0.2em;padding-left: 0.2em;position: relative;}#sk-container-id-5 div.sk-item {position: relative;z-index: 1;}#sk-container-id-5 div.sk-parallel {display: flex;align-items: stretch;justify-content: center;background-color: white;position: relative;}#sk-container-id-5 div.sk-item::before, #sk-container-id-5 div.sk-parallel-item::before {content: \"\";position: absolute;border-left: 1px solid gray;box-sizing: border-box;top: 0;bottom: 0;left: 50%;z-index: -1;}#sk-container-id-5 div.sk-parallel-item {display: flex;flex-direction: column;z-index: 1;position: relative;background-color: white;}#sk-container-id-5 div.sk-parallel-item:first-child::after {align-self: flex-end;width: 50%;}#sk-container-id-5 div.sk-parallel-item:last-child::after {align-self: flex-start;width: 50%;}#sk-container-id-5 div.sk-parallel-item:only-child::after {width: 0;}#sk-container-id-5 div.sk-dashed-wrapped {border: 1px dashed gray;margin: 0 0.4em 0.5em 0.4em;box-sizing: border-box;padding-bottom: 0.4em;background-color: white;}#sk-container-id-5 div.sk-label label {font-family: monospace;font-weight: bold;display: inline-block;line-height: 1.2em;}#sk-container-id-5 div.sk-label-container {text-align: center;}#sk-container-id-5 div.sk-container {/* jupyter's `normalize.less` sets `[hidden] { display: none; }` but bootstrap.min.css set `[hidden] { display: none !important; }` so we also need the `!important` here to be able to override the default hidden behavior on the sphinx rendered scikit-learn.org. See: https://github.com/scikit-learn/scikit-learn/issues/21755 */display: inline-block !important;position: relative;}#sk-container-id-5 div.sk-text-repr-fallback {display: none;}</style><div id=\"sk-container-id-5\" class=\"sk-top-container\"><div class=\"sk-text-repr-fallback\"><pre>RandomForestClassifier(n_jobs=2, random_state=1)</pre><b>In a Jupyter environment, please rerun this cell to show the HTML representation or trust the notebook. <br />On GitHub, the HTML representation is unable to render, please try loading this page with nbviewer.org.</b></div><div class=\"sk-container\" hidden><div class=\"sk-item\"><div class=\"sk-estimator sk-toggleable\"><input class=\"sk-toggleable__control sk-hidden--visually\" id=\"sk-estimator-id-5\" type=\"checkbox\" checked><label for=\"sk-estimator-id-5\" class=\"sk-toggleable__label sk-toggleable__label-arrow\">RandomForestClassifier</label><div class=\"sk-toggleable__content\"><pre>RandomForestClassifier(n_jobs=2, random_state=1)</pre></div></div></div></div></div>"
      ],
      "text/plain": [
       "RandomForestClassifier(n_jobs=2, random_state=1)"
      ]
     },
     "execution_count": 83,
     "metadata": {},
     "output_type": "execute_result"
    }
   ],
   "source": [
    "# creating a classifier object\n",
    "clf=RandomForestClassifier(n_jobs=2, random_state=1)\n",
    "\n",
    "# fitting the model with the training corpus\n",
    "clf.fit(X_train_vector, Y_train)"
   ]
  },
  {
   "cell_type": "code",
   "execution_count": 84,
   "id": "f86e5f49",
   "metadata": {},
   "outputs": [
    {
     "name": "stdout",
     "output_type": "stream",
     "text": [
      "Results for training set\n",
      "Accuracy score:  1.0\n",
      "F1 score:  1.0\n"
     ]
    }
   ],
   "source": [
    "print('Results for training set')\n",
    "\n",
    "# making in sample prediction on the training corpus\n",
    "Yhat_train_clf=clf.predict(X_train_vector)\n",
    "\n",
    "# Calculating the accuracy, f1_score\n",
    "as_clf_train= accuracy_score(Y_train, Yhat_train_clf)\n",
    "f1_clf_train=f1_score(Y_train, Yhat_train_clf, average='weighted')\n",
    "\n",
    "print('Accuracy score: ', as_clf_train)\n",
    "print('F1 score: ', f1_clf_train)"
   ]
  },
  {
   "cell_type": "code",
   "execution_count": 85,
   "id": "cc1a94b6",
   "metadata": {},
   "outputs": [
    {
     "name": "stdout",
     "output_type": "stream",
     "text": [
      "Results for test set\n",
      "Accuracy score:  0.9730941704035875\n",
      "F1 score:  0.9719802139473738\n"
     ]
    }
   ],
   "source": [
    "print('Results for test set')\n",
    "\n",
    "# making in sample prediction on the training corpus\n",
    "Yhat_test_clf=clf.predict(X_test_vector)\n",
    "\n",
    "# Calculating the accuracy, f1_score\n",
    "as_clf_test= accuracy_score(Y_test, Yhat_test_clf)\n",
    "f1_clf_test=f1_score(Y_test, Yhat_test_clf, average='weighted')\n",
    "\n",
    "print('Accuracy score: ', as_clf_test)\n",
    "print('F1 score: ', f1_clf_test)"
   ]
  },
  {
   "cell_type": "markdown",
   "id": "41925d5c",
   "metadata": {},
   "source": [
    "# -------------------------------------------------------------------------------------------------------\n",
    "### 6. Model Comparsion\n",
    "In this section we will be comparing the models and analysing them besed on their evaluation results"
   ]
  },
  {
   "cell_type": "code",
   "execution_count": 87,
   "id": "06bcecb6",
   "metadata": {},
   "outputs": [
    {
     "data": {
      "text/html": [
       "<div>\n",
       "<style scoped>\n",
       "    .dataframe tbody tr th:only-of-type {\n",
       "        vertical-align: middle;\n",
       "    }\n",
       "\n",
       "    .dataframe tbody tr th {\n",
       "        vertical-align: top;\n",
       "    }\n",
       "\n",
       "    .dataframe thead th {\n",
       "        text-align: right;\n",
       "    }\n",
       "</style>\n",
       "<table border=\"1\" class=\"dataframe\">\n",
       "  <thead>\n",
       "    <tr style=\"text-align: right;\">\n",
       "      <th></th>\n",
       "      <th>Model</th>\n",
       "      <th>Accuracy score Training Corpus</th>\n",
       "      <th>Accuracy score Testing Corpus</th>\n",
       "      <th>F1 score Training Corpus</th>\n",
       "      <th>F1 score Testing Corpus</th>\n",
       "    </tr>\n",
       "  </thead>\n",
       "  <tbody>\n",
       "    <tr>\n",
       "      <th>0</th>\n",
       "      <td>Logistic Regression</td>\n",
       "      <td>0.867848</td>\n",
       "      <td>0.858296</td>\n",
       "      <td>0.806447</td>\n",
       "      <td>0.792847</td>\n",
       "    </tr>\n",
       "    <tr>\n",
       "      <th>1</th>\n",
       "      <td>Decision Tree</td>\n",
       "      <td>1.000000</td>\n",
       "      <td>0.961435</td>\n",
       "      <td>1.000000</td>\n",
       "      <td>0.960624</td>\n",
       "    </tr>\n",
       "    <tr>\n",
       "      <th>2</th>\n",
       "      <td>SVM</td>\n",
       "      <td>0.998429</td>\n",
       "      <td>0.973094</td>\n",
       "      <td>0.998425</td>\n",
       "      <td>0.971891</td>\n",
       "    </tr>\n",
       "    <tr>\n",
       "      <th>3</th>\n",
       "      <td>Naive Bayes</td>\n",
       "      <td>0.983846</td>\n",
       "      <td>0.961435</td>\n",
       "      <td>0.983394</td>\n",
       "      <td>0.958821</td>\n",
       "    </tr>\n",
       "    <tr>\n",
       "      <th>4</th>\n",
       "      <td>Random Forest Classification</td>\n",
       "      <td>1.000000</td>\n",
       "      <td>0.973094</td>\n",
       "      <td>1.000000</td>\n",
       "      <td>0.971980</td>\n",
       "    </tr>\n",
       "  </tbody>\n",
       "</table>\n",
       "</div>"
      ],
      "text/plain": [
       "                          Model  Accuracy score Training Corpus  \\\n",
       "0           Logistic Regression                        0.867848   \n",
       "1                 Decision Tree                        1.000000   \n",
       "2                           SVM                        0.998429   \n",
       "3                   Naive Bayes                        0.983846   \n",
       "4  Random Forest Classification                        1.000000   \n",
       "\n",
       "   Accuracy score Testing Corpus  F1 score Training Corpus  \\\n",
       "0                       0.858296                  0.806447   \n",
       "1                       0.961435                  1.000000   \n",
       "2                       0.973094                  0.998425   \n",
       "3                       0.961435                  0.983394   \n",
       "4                       0.973094                  1.000000   \n",
       "\n",
       "   F1 score Testing Corpus  \n",
       "0                 0.792847  \n",
       "1                 0.960624  \n",
       "2                 0.971891  \n",
       "3                 0.958821  \n",
       "4                 0.971980  "
      ]
     },
     "execution_count": 87,
     "metadata": {},
     "output_type": "execute_result"
    }
   ],
   "source": [
    "# creating a dataframe for all the madels\n",
    "evaluation_df=pd.DataFrame({\"Model\":['Logistic Regression','Decision Tree','SVM','Naive Bayes','Random Forest Classification'],\n",
    "                            \"Accuracy score Training Corpus\":[as_logr_train,as_dt_train,as_svm_train,as_nb_train,as_clf_train],\n",
    "                            \"Accuracy score Testing Corpus\":[as_logr_test,as_dt_test,as_svm_test,as_nb_test, as_clf_test], \n",
    "                            \"F1 score Training Corpus\":[f1_logr_train,f1_dt_train,f1_svm_train,f1_nb_train, f1_clf_train],\n",
    "                            \"F1 score Testing Corpus\":[f1_logr_test,f1_dt_test,f1_svm_test,f1_nb_test,f1_clf_test]})\n",
    "evaluation_df"
   ]
  },
  {
   "cell_type": "markdown",
   "id": "03407ee2",
   "metadata": {},
   "source": [
    "#### To gather meaning ful insights let us first plot the dataframe so that we can choose the best model"
   ]
  },
  {
   "cell_type": "code",
   "execution_count": 96,
   "id": "20cc3b5b",
   "metadata": {},
   "outputs": [
    {
     "data": {
      "text/plain": [
       "Text(0.5, 1.0, 'Accuracy scores of in sample vs out of sample predictions')"
      ]
     },
     "execution_count": 96,
     "metadata": {},
     "output_type": "execute_result"
    },
    {
     "data": {
      "image/png": "[encoded data removed]",
      "text/plain": [
       "<Figure size 640x480 with 1 Axes>"
      ]
     },
     "metadata": {},
     "output_type": "display_data"
    }
   ],
   "source": [
    "plt.plot('Model','Accuracy score Training Corpus',data=evaluation_df, marker='.', color='Blue',label='In sample accuracy score' )\n",
    "plt.plot('Model', 'Accuracy score Testing Corpus',data=evaluation_df, marker='.', color='red', label='Out of sample accuracy score')\n",
    "plt.legend()\n",
    "plt.xticks(rotation=35)\n",
    "plt.title('Accuracy scores of in sample vs out of sample predictions')\n"
   ]
  },
  {
   "cell_type": "markdown",
   "id": "0e271478",
   "metadata": {},
   "source": [
    "*From the above graph we can infer that when we perform in sample testing decision trees give us an accuracy score of 1 which is ideal but at the same time when we see the testing accuarcy score for the same it falls short. This means that the model was overfitting and thus captures noise*\n",
    "\n",
    "*Since we need to deploy the model in real life scenerios we don't need to analyse the scores on training corpus for model evaluation. What we are concerned withn is how much accuarcy does the model give on unseen data cases.*\n",
    "\n",
    "**In this case the SVM and Random Forest classifier works the best**"
   ]
  },
  {
   "cell_type": "code",
   "execution_count": 97,
   "id": "72f5d88b",
   "metadata": {},
   "outputs": [
    {
     "data": {
      "text/plain": [
       "Text(0.5, 1.0, 'F1 scores of in sample vs out of sample predictions')"
      ]
     },
     "execution_count": 97,
     "metadata": {},
     "output_type": "execute_result"
    },
    {
     "data": {
      "image/png": "[encoded data removed]",
      "text/plain": [
       "<Figure size 640x480 with 1 Axes>"
      ]
     },
     "metadata": {},
     "output_type": "display_data"
    }
   ],
   "source": [
    "plt.plot('Model','F1 score Training Corpus',data=evaluation_df, marker='.', color='purple',label='In sample F1 score' )\n",
    "plt.plot('Model', 'F1 score Testing Corpus',data=evaluation_df, marker='.', color='orange', label='Out of sample F1 score')\n",
    "plt.legend()\n",
    "plt.xticks(rotation=35)\n",
    "plt.title('F1 scores of in sample vs out of sample predictions')\n"
   ]
  },
  {
   "cell_type": "markdown",
   "id": "44264ba9",
   "metadata": {},
   "source": [
    "In this case (F1 scores) the SVM and Random forest classification work best on the testing cases.\n",
    "However the Random Forest approach does have an edge over the SVM in terms of the F1 score making it the best classifier for the above scenerio"
   ]
  },
  {
   "cell_type": "markdown",
   "id": "f028175f",
   "metadata": {},
   "source": [
    "### After analysing the above models we find that the random forest classifier performs the best so we will choose that for classification of mails as spam or ham"
   ]
  },
  {
   "cell_type": "markdown",
   "id": "89684fc4",
   "metadata": {},
   "source": [
    "# -------------------------------------------------------------------------------------------------------\n",
    "### 7. Model Implementation and analysis\n",
    "In this section we will be implementing the random forest model and having an in depth analyis for the same."
   ]
  },
  {
   "cell_type": "code",
   "execution_count": 123,
   "id": "552adc94",
   "metadata": {
    "scrolled": true
   },
   "outputs": [
    {
     "name": "stdout",
     "output_type": "stream",
     "text": [
      "              precision    recall  f1-score   support\n",
      "\n",
      "         ham       0.97      1.00      0.98       957\n",
      "        spam       0.99      0.82      0.90       158\n",
      "\n",
      "    accuracy                           0.97      1115\n",
      "   macro avg       0.98      0.91      0.94      1115\n",
      "weighted avg       0.97      0.97      0.97      1115\n",
      "\n"
     ]
    }
   ],
   "source": [
    "# printing the classification reprt to analyse the precision and recall\n",
    "print(classification_report(Y_test, Yhat_test_clf, target_names=['ham','spam']))"
   ]
  },
  {
   "cell_type": "code",
   "execution_count": 115,
   "id": "80195c1a",
   "metadata": {},
   "outputs": [
    {
     "data": {
      "text/plain": [
       "<sklearn.metrics._plot.confusion_matrix.ConfusionMatrixDisplay at 0x271e21644d0>"
      ]
     },
     "execution_count": 115,
     "metadata": {},
     "output_type": "execute_result"
    },
    {
     "data": {
      "image/png": "[encoded data removed]",
      "text/plain": [
       "<Figure size 640x480 with 2 Axes>"
      ]
     },
     "metadata": {},
     "output_type": "display_data"
    }
   ],
   "source": [
    "# creating a confusion matrix for the random forest classifier\n",
    "cm=confusion_matrix(Yhat_test_clf, Y_test, labels=clf.classes_)\n",
    "\n",
    "# creating a confusion matrix plot\n",
    "disp=ConfusionMatrixDisplay(confusion_matrix=cm, display_labels=['ham','spam'])\n",
    "disp.plot(cmap='YlGn')"
   ]
  },
  {
   "cell_type": "markdown",
   "id": "52decee6",
   "metadata": {},
   "source": [
    "### --------------------------------------------------------------------------------------------------------------------------------------------------------\n",
    "### 8. Conclusion\n",
    "In conclusion, this data science project aimed to classify spam and ham mails using various machine learning algorithms. The algorithms used were logistic regression, decision trees, SVM, Naive Bayes, and random forest. After thorough analysis, it was observed that the random forest algorithm outperformed the others in terms of accuracy and F1 score.\n",
    "\n",
    "The results showed that the random forest algorithm had an accuracy of 97.3094% and an F1 score of 97.1980%.\n",
    "\n",
    "This project shows that the random forest algorithm is an effective method for classifying spam and ham mails. However, it is important to note that the performance of the algorithm can be improved by tuning hyperparameters or using other techniques such as feature selection."
   ]
  },
  {
   "cell_type": "markdown",
   "id": "4272ea34",
   "metadata": {},
   "source": [
    "### --------------------------------------------------------------------------------------------------------------------------------------------------------\n",
    "### 9. Credits\n",
    "\n",
    "***Reva Bharara***\n",
    "\n",
    "***Email : revabharara@gmail.com***\n",
    "\n",
    "***Linkedin : https://www.linkedin.com/in/reva-bharara-a83a78241/***\n"
   ]
  },
  {
   "cell_type": "code",
   "execution_count": null,
   "id": "39842eb9",
   "metadata": {},
   "outputs": [],
   "source": []
  }
 ],
 "metadata": {
  "kernelspec": {
   "display_name": "Python 3 (ipykernel)",
   "language": "python",
   "name": "python3"
  },
  "language_info": {
   "codemirror_mode": {
    "name": "ipython",
    "version": 3
   },
   "file_extension": ".py",
   "mimetype": "text/x-python",
   "name": "python",
   "nbconvert_exporter": "python",
   "pygments_lexer": "ipython3",
   "version": "3.11.0"
  }
 },
 "nbformat": 4,
 "nbformat_minor": 5
}
